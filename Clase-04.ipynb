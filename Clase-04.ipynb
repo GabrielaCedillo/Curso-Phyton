{
 "cells": [
  {
   "attachments": {},
   "cell_type": "markdown",
   "metadata": {},
   "source": [
    "Clase 04"
   ]
  },
  {
   "attachments": {},
   "cell_type": "markdown",
   "metadata": {},
   "source": [
    "Funciones"
   ]
  },
  {
   "cell_type": "code",
   "execution_count": null,
   "metadata": {},
   "outputs": [],
   "source": [
    "Nota. def. indica la creacion de una función."
   ]
  },
  {
   "cell_type": "code",
   "execution_count": 1,
   "metadata": {},
   "outputs": [],
   "source": [
    "def sumar (a,b):\n",
    "    resultado = a + b\n",
    "    return resultado\n"
   ]
  },
  {
   "cell_type": "code",
   "execution_count": 2,
   "metadata": {},
   "outputs": [
    {
     "data": {
      "text/plain": [
       "18"
      ]
     },
     "execution_count": 2,
     "metadata": {},
     "output_type": "execute_result"
    }
   ],
   "source": [
    "sumar (8,10)"
   ]
  },
  {
   "attachments": {},
   "cell_type": "markdown",
   "metadata": {},
   "source": [
    "3 comillas (\"\"\") para indicar datos "
   ]
  },
  {
   "cell_type": "code",
   "execution_count": null,
   "metadata": {},
   "outputs": [],
   "source": [
    "def sumar (a,b):\n",
    "    \"\"\"Función para sumar dos numeros\n",
    "    ## parámetros\n",
    "    a: numero a sumar\n",
    "    b: numero a sumar\n",
    "    ##return \n",
    "    regresa la suma de a con b \n",
    "    \"\"\"\n",
    "    resultado = a+b\n",
    "    return resultado "
   ]
  },
  {
   "cell_type": "code",
   "execution_count": 4,
   "metadata": {},
   "outputs": [
    {
     "data": {
      "text/plain": [
       "17"
      ]
     },
     "execution_count": 4,
     "metadata": {},
     "output_type": "execute_result"
    }
   ],
   "source": [
    "def sumar (a,b):\n",
    "    \"\"\"Función para sumar dos numeros\n",
    "    ## parámetros\n",
    "    a: numero a sumar\n",
    "    b: numero a sumar\n",
    "    ##return \n",
    "    regresa la suma de a con b \n",
    "    \"\"\"\n",
    "    resultado = a+b\n",
    "    return resultado \n",
    "sumar (8,9)"
   ]
  },
  {
   "attachments": {},
   "cell_type": "markdown",
   "metadata": {},
   "source": [
    "Actividad 1"
   ]
  },
  {
   "cell_type": "code",
   "execution_count": 5,
   "metadata": {},
   "outputs": [
    {
     "data": {
      "text/plain": [
       "494.00000000000006"
      ]
     },
     "execution_count": 5,
     "metadata": {},
     "output_type": "execute_result"
    }
   ],
   "source": [
    "def dólares_a_pesos(dólares):\n",
    "    \"\"\"C onvertir dólares a pesos\n",
    "    \"\"\"\n",
    "    resultado = dólares*19.76\n",
    "    return resultado \n",
    "dólares_a_pesos(25)"
   ]
  },
  {
   "cell_type": "code",
   "execution_count": 8,
   "metadata": {},
   "outputs": [
    {
     "data": {
      "text/plain": [
       "1146.0800000000002"
      ]
     },
     "execution_count": 8,
     "metadata": {},
     "output_type": "execute_result"
    }
   ],
   "source": [
    "dólares_a_pesos(58)"
   ]
  },
  {
   "attachments": {},
   "cell_type": "markdown",
   "metadata": {},
   "source": [
    "Actividad 2"
   ]
  },
  {
   "cell_type": "code",
   "execution_count": 11,
   "metadata": {},
   "outputs": [
    {
     "data": {
      "text/plain": [
       "7.0"
      ]
     },
     "execution_count": 11,
     "metadata": {},
     "output_type": "execute_result"
    }
   ],
   "source": [
    "def promedio (lista):\n",
    "    \"\"\"Sacar el promedio de una lista\n",
    "    \"\"\"\n",
    "    n = len(lista)\n",
    "    suma =sum(lista)\n",
    "    return suma/n\n",
    "promedio([7,7,7])"
   ]
  },
  {
   "cell_type": "markdown",
   "metadata": {},
   "source": []
  }
 ],
 "metadata": {
  "kernelspec": {
   "display_name": "Python 3",
   "language": "python",
   "name": "python3"
  },
  "language_info": {
   "codemirror_mode": {
    "name": "ipython",
    "version": 3
   },
   "file_extension": ".py",
   "mimetype": "text/x-python",
   "name": "python",
   "nbconvert_exporter": "python",
   "pygments_lexer": "ipython3",
   "version": "3.11.0"
  },
  "orig_nbformat": 4,
  "vscode": {
   "interpreter": {
    "hash": "50423fc701e2249c8d7d8d5df609aed983af29e29b1b3552055fb43977af6813"
   }
  }
 },
 "nbformat": 4,
 "nbformat_minor": 2
}
