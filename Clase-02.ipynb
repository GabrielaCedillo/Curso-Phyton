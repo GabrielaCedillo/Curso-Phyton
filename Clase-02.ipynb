{
 "cells": [
  {
   "cell_type": "markdown",
   "metadata": {},
   "source": [
    "Clase 2"
   ]
  },
  {
   "cell_type": "code",
   "execution_count": 1,
   "metadata": {},
   "outputs": [
    {
     "name": "stdout",
     "output_type": "stream",
     "text": [
      "5 es el mayor\n"
     ]
    }
   ],
   "source": [
    "num1= int(input(\"num1\"))\n",
    "num2= int(input(\"num2\"))\n",
    "\n",
    "if num1 > num2:\n",
    "    print(f\"{num1} es el mayor\")\n",
    "elif num2> num1:\n",
    "    print(f\"{num2} es el mayor\")\n",
    "else:\n",
    "    print(f\"{num2} es el mayor\")"
   ]
  },
  {
   "cell_type": "code",
   "execution_count": 21,
   "metadata": {},
   "outputs": [
    {
     "name": "stdout",
     "output_type": "stream",
     "text": [
      "16 es mayor que 8\n"
     ]
    }
   ],
   "source": [
    "num1 = 8\n",
    "num2 = 16 \n",
    "if num1> num2:\n",
    "    print(\"8 es mayor que 16\")\n",
    "elif num2> num1:\n",
    "    print(\"16 es mayor que 8\")\n",
    "else:\n",
    "    print(\"ambos números son iguales\")"
   ]
  },
  {
   "cell_type": "markdown",
   "metadata": {},
   "source": [
    "Listas"
   ]
  },
  {
   "cell_type": "code",
   "execution_count": 18,
   "metadata": {},
   "outputs": [
    {
     "ename": "IndentationError",
     "evalue": "unexpected indent (3937958089.py, line 3)",
     "output_type": "error",
     "traceback": [
      "\u001b[1;36m  Cell \u001b[1;32mIn[18], line 3\u001b[1;36m\u001b[0m\n\u001b[1;33m    mis_frutas.append('guayaba')\u001b[0m\n\u001b[1;37m    ^\u001b[0m\n\u001b[1;31mIndentationError\u001b[0m\u001b[1;31m:\u001b[0m unexpected indent\n"
     ]
    }
   ],
   "source": [
    "mis_frutas= (\"manzana, platano, fresa, naranja\")\n",
    "print(mis_frutas)\n",
    "    mis_frutas.append('guayaba')"
   ]
  },
  {
   "cell_type": "code",
   "execution_count": 24,
   "metadata": {},
   "outputs": [
    {
     "data": {
      "text/plain": [
       "['Pera', 'Naranja']"
      ]
     },
     "execution_count": 24,
     "metadata": {},
     "output_type": "execute_result"
    }
   ],
   "source": [
    "mis_frutas= [\"Manzana\", \"Plátano\", \"Pera\", \"Naranja\"]\n",
    "mis_frutas[0:2]\n",
    "mis_frutas [2:4]"
   ]
  },
  {
   "cell_type": "code",
   "execution_count": 8,
   "metadata": {},
   "outputs": [
    {
     "data": {
      "text/plain": [
       "'Cenicienta'"
      ]
     },
     "execution_count": 8,
     "metadata": {},
     "output_type": "execute_result"
    }
   ],
   "source": [
    "palabra= \"La Cenicienta\"\n",
    "palabra[0:2]\n",
    "palabra[3:14]"
   ]
  },
  {
   "cell_type": "code",
   "execution_count": 25,
   "metadata": {},
   "outputs": [
    {
     "data": {
      "text/plain": [
       "'Toronja'"
      ]
     },
     "execution_count": 25,
     "metadata": {},
     "output_type": "execute_result"
    }
   ],
   "source": [
    "mis_frutas= [\"Manzana\", \"Plátano\", \"Pera\", \"Naranja\",\"Toronja\"]\n",
    "mis_frutas[-1]"
   ]
  },
  {
   "cell_type": "code",
   "execution_count": 16,
   "metadata": {},
   "outputs": [
    {
     "name": "stdout",
     "output_type": "stream",
     "text": [
      "[18, 17, 15, 13, 13, 12, 5, 4, 2, 1]\n"
     ]
    }
   ],
   "source": [
    "mis_numeros = [4,18, 15, 13, 12, 13, 2, 5, 1, 17]\n",
    "mis_numeros.sort(reverse=True)\n",
    "print(mis_numeros)"
   ]
  },
  {
   "cell_type": "code",
   "execution_count": 27,
   "metadata": {},
   "outputs": [
    {
     "name": "stdout",
     "output_type": "stream",
     "text": [
      "[4, 18, 15, 13, 12, 13, 2, 5, 1, 17]\n"
     ]
    }
   ],
   "source": [
    "mis_numeros = [4,18, 15, 13, 12, 13, 2, 5, 1, 17]\n",
    "mis_numeros.count(10)\n",
    "print(mis_numeros)"
   ]
  },
  {
   "cell_type": "markdown",
   "metadata": {},
   "source": [
    "Actividad3 "
   ]
  },
  {
   "cell_type": "code",
   "execution_count": 17,
   "metadata": {},
   "outputs": [
    {
     "ename": "SyntaxError",
     "evalue": "invalid syntax (3379020234.py, line 1)",
     "output_type": "error",
     "traceback": [
      "\u001b[1;36m  Cell \u001b[1;32mIn[17], line 1\u001b[1;36m\u001b[0m\n\u001b[1;33m    $$\\frac{1}{2}\\sum{i}^{n}x_i$$\u001b[0m\n\u001b[1;37m    ^\u001b[0m\n\u001b[1;31mSyntaxError\u001b[0m\u001b[1;31m:\u001b[0m invalid syntax\n"
     ]
    }
   ],
   "source": []
  },
  {
   "cell_type": "code",
   "execution_count": 28,
   "metadata": {},
   "outputs": [
    {
     "data": {
      "text/plain": [
       "10"
      ]
     },
     "execution_count": 28,
     "metadata": {},
     "output_type": "execute_result"
    }
   ],
   "source": [
    "mis_numeros = [4,18, 15, 13, 12, 13, 2, 5, 1, 17]\n",
    "len(mis_numeros)"
   ]
  },
  {
   "cell_type": "code",
   "execution_count": 29,
   "metadata": {},
   "outputs": [
    {
     "name": "stdout",
     "output_type": "stream",
     "text": [
      "8.2\n"
     ]
    }
   ],
   "source": [
    "mis_numeros = [7,8, 8, 9, 9, 10, 7, 5, 9, 10]\n",
    "promedio= sum(mis_numeros)/len(mis_numeros)\n",
    "print(promedio)"
   ]
  },
  {
   "cell_type": "code",
   "execution_count": 30,
   "metadata": {},
   "outputs": [
    {
     "name": "stdout",
     "output_type": "stream",
     "text": [
      "5\n"
     ]
    }
   ],
   "source": [
    "mis_numeros = [7,8, 8, 9, 9, 10, 7, 5, 9, 10]\n",
    "print(min(mis_numeros))"
   ]
  },
  {
   "cell_type": "code",
   "execution_count": 31,
   "metadata": {},
   "outputs": [
    {
     "name": "stdout",
     "output_type": "stream",
     "text": [
      "10\n"
     ]
    }
   ],
   "source": [
    "mis_numeros = [7,8, 8, 9, 9, 10, 7, 5, 9, 10]\n",
    "print(max(mis_numeros))"
   ]
  }
 ],
 "metadata": {
  "kernelspec": {
   "display_name": "Python 3.11.0 64-bit",
   "language": "python",
   "name": "python3"
  },
  "language_info": {
   "codemirror_mode": {
    "name": "ipython",
    "version": 3
   },
   "file_extension": ".py",
   "mimetype": "text/x-python",
   "name": "python",
   "nbconvert_exporter": "python",
   "pygments_lexer": "ipython3",
   "version": "3.11.0"
  },
  "orig_nbformat": 4,
  "vscode": {
   "interpreter": {
    "hash": "50423fc701e2249c8d7d8d5df609aed983af29e29b1b3552055fb43977af6813"
   }
  }
 },
 "nbformat": 4,
 "nbformat_minor": 2
}
